{
 "cells": [
  {
   "cell_type": "code",
   "execution_count": 1,
   "metadata": {},
   "outputs": [],
   "source": [
    "!pip install mesa seaborn --quiet"
   ]
  },
  {
   "cell_type": "code",
   "execution_count": 2,
   "metadata": {},
   "outputs": [],
   "source": [
    "# Importamos las clases que se requieren para manejar los agentes (Agent) y su entorno (Model).\n",
    "# Cada modelo puede contener múltiples agentes.\n",
    "from mesa import Agent, Model \n",
    "\n",
    "# Debido a que necesitamos que existe un solo agente por celda, elegimos ''SingleGrid''.\n",
    "from mesa.space import SingleGrid\n",
    "\n",
    "# Con ''SimultaneousActivation, hacemos que todos los agentes se activen ''al mismo tiempo''.\n",
    "from mesa.time import SimultaneousActivation\n",
    "\n",
    "# Haremos uso de ''DataCollector'' para obtener información de cada paso de la simulación.\n",
    "from mesa.datacollection import DataCollector\n",
    "\n",
    "# matplotlib lo usaremos crear una animación de cada uno de los pasos del modelo.\n",
    "%matplotlib inline\n",
    "import matplotlib\n",
    "import matplotlib.pyplot as plt\n",
    "import matplotlib.animation as animation\n",
    "plt.rcParams[\"animation.html\"] = \"jshtml\"\n",
    "matplotlib.rcParams['animation.embed_limit'] = 2**128\n",
    "\n",
    "# Importamos los siguientes paquetes para el mejor manejo de valores numéricos.\n",
    "import numpy as np\n",
    "import pandas as pd\n",
    "\n",
    "# Definimos otros paquetes que vamos a usar para medir el tiempo de ejecución de nuestro algoritmo.\n",
    "import time\n",
    "import datetime"
   ]
  },
  {
   "cell_type": "code",
   "execution_count": null,
   "metadata": {},
   "outputs": [],
   "source": [
    "class LuigiAgent(Agent):\n",
    "  def __init__(self, unique_id, model):\n",
    "    super().__init__(unique_id, model)\n",
    "    self.points = 4\n",
    "\n",
    "  \n",
    "  def move(self):\n",
    "    possible_moves = self.model.grid.get_neighborhood(self.pos, moore=True, include_center=False)\n",
    "    new_position = self.random.choice(possible_moves)\n",
    "    if self.model.grid.is_cell_empty(new_position):\n",
    "        self.model.grid.move_agent(self, new_position)\n",
    "      \n",
    "  def interact(self):\n",
    "    # Revisa si hay un punto de interés o un fantasma\n",
    "    cellmates = self.model.grid.get_cell_list_contents([self.pos])\n",
    "    for agent in cellmates:\n",
    "      if isinstance(agent, GreenGhostAgent):\n",
    "        self.perform_exorcism(agent)\n",
    "      elif isinstance(agent, ArtifactAgent):\n",
    "        self.examine_artifact(agent)\n",
    "\n",
    "  def perform_knocked(self, ghost):\n",
    "    if isinstance(ghost, GreenGhostAgent):\n",
    "      #Define lógica para noquear a un fantasma de la casilla\n",
    "      ghost.knocked = True\n",
    "      print(f\"Luigi {self.unique_id} ha noqueado un fantasma en {self.pos}\")\n",
    "\n",
    "  def perform_exorcism(self, ghost):\n",
    "    if isinstance(ghost, GreenGhostAgent):\n",
    "      #Define lógica para eliminar a un fantasma de la casilla\n",
    "      ghost.absorb = True\n",
    "      print(f\"Luigi {self.unique_id} ha absorbido un fantasma en {self.pos}\")\n",
    "\n",
    "  def examine_artifact(self, artifact):\n",
    "    if isinstance(artifact, ArtifactAgent):\n",
    "      # Define la lógica para examinar el artefacto\n",
    "      artifact.recovered = True\n",
    "      print(f\"Luigi {self.unique_id} ha recuperado un artefacto en {self.pos}\")\n",
    "\n",
    "  def step(self):\n",
    "    self.move()\n",
    "    self.interact()"
   ]
  },
  {
   "cell_type": "code",
   "execution_count": null,
   "metadata": {},
   "outputs": [],
   "source": [
    "class GreenGhostAgent(Agent):\n",
    "  def __init__(self, unique_id, model):\n",
    "    super().__init__(unique_id, model)"
   ]
  },
  {
   "cell_type": "code",
   "execution_count": null,
   "metadata": {},
   "outputs": [],
   "source": [
    "class RedGhostAgent(Agent):\n",
    "  def __init__(self, unique_id, model):\n",
    "    super().__init__(unique_id, model)"
   ]
  },
  {
   "cell_type": "code",
   "execution_count": null,
   "metadata": {},
   "outputs": [],
   "source": [
    "class ArtifactAgent(Agent):\n",
    "  def __init__(self, unique_id, model):\n",
    "    super().__init__(unique_id, model)"
   ]
  },
  {
   "cell_type": "code",
   "execution_count": null,
   "metadata": {},
   "outputs": [],
   "source": [
    "class MansionModel(Model):\n",
    "    def __init__(self, width, height, num_agents):\n",
    "        self.num_agents = num_agents\n",
    "        self.grid = SingleGrid(width, height, True)\n",
    "        self.schedule = SimultaneousActivation(self)\n",
    "        self.datacollector = DataCollector(model_reporters={\"Damage\": lambda m: m.total_damage})\n",
    "\n",
    "        for i in range(self.num_agents):\n",
    "            luigi = LuigiAgent(i, self)\n",
    "            self.schedule.add(luigi)\n",
    "            x = self.random.randrange(self.grid.width)\n",
    "            y = self.random.randrange(self.grid.height)\n",
    "            self.grid.place_agent(luigi, (x, y))\n",
    "\n",
    "        self.total_damage = 0 #Este es el da;o de la casa \n",
    "\n",
    "    def step(self):\n",
    "        self.schedule.step()\n",
    "        self.datacollector.collect(self)"
   ]
  }
 ],
 "metadata": {
  "kernelspec": {
   "display_name": ".venv",
   "language": "python",
   "name": "python3"
  },
  "language_info": {
   "codemirror_mode": {
    "name": "ipython",
    "version": 3
   },
   "file_extension": ".py",
   "mimetype": "text/x-python",
   "name": "python",
   "nbconvert_exporter": "python",
   "pygments_lexer": "ipython3",
   "version": "3.11.9"
  }
 },
 "nbformat": 4,
 "nbformat_minor": 2
}
