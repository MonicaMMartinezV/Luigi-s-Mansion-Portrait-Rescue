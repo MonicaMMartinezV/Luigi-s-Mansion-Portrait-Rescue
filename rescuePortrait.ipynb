{
 "cells": [
  {
   "cell_type": "code",
   "execution_count": 1,
   "metadata": {},
   "outputs": [
    {
     "name": "stderr",
     "output_type": "stream",
     "text": [
      "\n",
      "[notice] A new release of pip is available: 24.0 -> 24.3.1\n",
      "[notice] To update, run: C:\\Users\\samir\\AppData\\Local\\Microsoft\\WindowsApps\\PythonSoftwareFoundation.Python.3.11_qbz5n2kfra8p0\\python.exe -m pip install --upgrade pip\n"
     ]
    }
   ],
   "source": [
    "! pip install mesa --quiet"
   ]
  },
  {
   "cell_type": "code",
   "execution_count": 2,
   "metadata": {},
   "outputs": [],
   "source": [
    "# Librerías de simulación multiagentes\n",
    "from mesa import Agent, Model  # Define los agentes y el modelo base de la simulación\n",
    "from mesa.space import MultiGrid, SingleGrid  # Permite colocar los agentes en una cuadrícula (multi o individual)\n",
    "from mesa.time import SimultaneousActivation  # Activa a todos los agentes simultáneamente en cada paso de la simulación\n",
    "from mesa.datacollection import DataCollector  # Recolecta y organiza datos de la simulación para análisis\n",
    "\n",
    "# Librerías matemáticas y generación de aleatoriedad\n",
    "import itertools  # Proporciona herramientas para crear combinaciones y permutaciones\n",
    "import random  # Permite generar números y secuencias aleatorias, útil para la variabilidad en simulaciones\n",
    "import math  # Contiene funciones matemáticas básicas, como operaciones trigonométricas y logarítmicas\n",
    "\n",
    "# Librerías de visualización y gráficos\n",
    "import matplotlib.pyplot as plt  # Creación y personalización de gráficos\n",
    "import matplotlib.patches as patches  # Añade formas como rectángulos o círculos a gráficos de matplotlib\n",
    "from matplotlib.colors import ListedColormap  # Define mapas de color personalizados\n",
    "import matplotlib.animation as animation  # Crea animaciones, útil para representar dinámicamente la simulación\n",
    "plt.rcParams[\"animation.html\"] = \"jshtml\"  # Configura la visualización de animaciones en formato HTML\n",
    "import matplotlib  # Configuración adicional de matplotlib\n",
    "matplotlib.rcParams[\"animation.embed_limit\"] = 2**128  # Ajusta el límite de tamaño para incrustar animaciones\n",
    "\n",
    "# Librerías de manipulación y análisis de datos\n",
    "import numpy as np  # Proporciona funciones para manejo de matrices y álgebra lineal, común en análisis de datos\n",
    "import pandas as pd  # Ofrece estructuras de datos como DataFrames, útiles para manipular grandes cantidades de datos\n",
    "\n",
    "# Librerías de comunicación en red y servidor HTTP\n",
    "from http.server import BaseHTTPRequestHandler, HTTPServer  # Implementa un servidor HTTP básico para manejar solicitudes\n",
    "import logging  # Registro de eventos y errores del servidor, útil para el diagnóstico\n",
    "import json  # Proporciona funciones para manejar datos en formato JSON, útil para comunicación entre aplicaciones"
   ]
  },
  {
   "cell_type": "code",
   "execution_count": null,
   "metadata": {},
   "outputs": [],
   "source": [
    "class LuigiAgent(Agent):\n",
    "    def __init__(self, unique_id, model):\n",
    "        super().__init__(unique_id, model)\n",
    "        self.action_points = 4\n",
    "        self.saved_points = 0  # Puntos ahorrados de turnos anteriores\n",
    "        self.carrying_portrait = None  # Para saber si está cargando un retrato verdadero\n",
    "\n",
    "    "
   ]
  },
  {
   "cell_type": "code",
   "execution_count": null,
   "metadata": {},
   "outputs": [],
   "source": [
    "class MansionModel(Model):\n",
    "    def __init__(self, width, height, luigi, ghost, walls, doors, doors_connected, entrances, portrait):\n",
    "        super().__init__()\n",
    "\n",
    "    # Parámetros de entrada almacenados\n",
    "        self.doors = doors\n",
    "        self.doors_connected = doors_connected\n",
    "        self.entrances =  entrances\n",
    "        self.portrait = portrait\n",
    "        self.width = width\n",
    "        self.height = height\n",
    "\n",
    "    def step():\n",
    "    \n"
   ]
  }
 ],
 "metadata": {
  "kernelspec": {
   "display_name": "Python 3",
   "language": "python",
   "name": "python3"
  },
  "language_info": {
   "codemirror_mode": {
    "name": "ipython",
    "version": 3
   },
   "file_extension": ".py",
   "mimetype": "text/x-python",
   "name": "python",
   "nbconvert_exporter": "python",
   "pygments_lexer": "ipython3",
   "version": "3.11.9"
  }
 },
 "nbformat": 4,
 "nbformat_minor": 2
}
